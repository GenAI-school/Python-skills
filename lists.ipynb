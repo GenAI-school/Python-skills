{
 "cells": [
  {
   "cell_type": "code",
   "execution_count": 2,
   "id": "c8b69138",
   "metadata": {},
   "outputs": [],
   "source": [
    "a=[10,\"sreehari\",True]"
   ]
  },
  {
   "cell_type": "code",
   "execution_count": 3,
   "id": "8a0791b2",
   "metadata": {},
   "outputs": [
    {
     "name": "stdout",
     "output_type": "stream",
     "text": [
      "<class 'list'>\n"
     ]
    }
   ],
   "source": [
    "print(type(a))"
   ]
  },
  {
   "cell_type": "code",
   "execution_count": 13,
   "id": "f7888f44",
   "metadata": {},
   "outputs": [
    {
     "name": "stdout",
     "output_type": "stream",
     "text": [
      "sreehari\n"
     ]
    }
   ],
   "source": [
    "print(a[1])\n"
   ]
  },
  {
   "cell_type": "code",
   "execution_count": 15,
   "id": "3f5d92ed",
   "metadata": {},
   "outputs": [
    {
     "name": "stdout",
     "output_type": "stream",
     "text": [
      "[10, 'sreehari']\n"
     ]
    }
   ],
   "source": [
    "print(a[0:2])"
   ]
  }
 ],
 "metadata": {
  "kernelspec": {
   "display_name": "genai-env",
   "language": "python",
   "name": "python3"
  },
  "language_info": {
   "codemirror_mode": {
    "name": "ipython",
    "version": 3
   },
   "file_extension": ".py",
   "mimetype": "text/x-python",
   "name": "python",
   "nbconvert_exporter": "python",
   "pygments_lexer": "ipython3",
   "version": "3.10.18"
  }
 },
 "nbformat": 4,
 "nbformat_minor": 5
}
