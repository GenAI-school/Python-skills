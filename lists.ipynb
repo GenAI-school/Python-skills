{
 "cells": [
  {
   "cell_type": "code",
   "execution_count": 7,
   "id": "c8b69138",
   "metadata": {},
   "outputs": [],
   "source": [
    "a=[10,\"sreehari\",True]"
   ]
  },
  {
   "cell_type": "code",
   "execution_count": 8,
   "id": "8a0791b2",
   "metadata": {},
   "outputs": [
    {
     "name": "stdout",
     "output_type": "stream",
     "text": [
      "<class 'list'>\n"
     ]
    }
   ],
   "source": [
    "print(type(a))"
   ]
  },
  {
   "cell_type": "code",
   "execution_count": 9,
   "id": "f7888f44",
   "metadata": {},
   "outputs": [
    {
     "name": "stdout",
     "output_type": "stream",
     "text": [
      "sreehari\n"
     ]
    }
   ],
   "source": [
    "print(a[1])\n"
   ]
  },
  {
   "cell_type": "code",
   "execution_count": 15,
   "id": "3f5d92ed",
   "metadata": {},
   "outputs": [
    {
     "name": "stdout",
     "output_type": "stream",
     "text": [
      "[10, 'sreehari']\n"
     ]
    }
   ],
   "source": [
    "print(a[0:2])"
   ]
  },
  {
   "cell_type": "code",
   "execution_count": 2,
   "id": "6ade6657",
   "metadata": {},
   "outputs": [
    {
     "data": {
      "text/plain": [
       "['h', 'e', 'l', 'l', 'o', ' ', 'w', 'o', 'r', 'l', 'd']"
      ]
     },
     "execution_count": 2,
     "metadata": {},
     "output_type": "execute_result"
    }
   ],
   "source": [
    "list(\"hello world\")"
   ]
  },
  {
   "cell_type": "code",
   "execution_count": 11,
   "id": "d1c564a9",
   "metadata": {},
   "outputs": [
    {
     "name": "stdout",
     "output_type": "stream",
     "text": [
      "[10, 'sreehari', True]\n"
     ]
    }
   ],
   "source": [
    "print(a)"
   ]
  },
  {
   "cell_type": "code",
   "execution_count": 12,
   "id": "9d920d3e",
   "metadata": {},
   "outputs": [
    {
     "name": "stdout",
     "output_type": "stream",
     "text": [
      "[10, 'sreehari', True, 20]\n"
     ]
    }
   ],
   "source": [
    "a.append(20)\n",
    "print(a)"
   ]
  },
  {
   "cell_type": "code",
   "execution_count": 13,
   "id": "cf50e26a",
   "metadata": {},
   "outputs": [
    {
     "name": "stdout",
     "output_type": "stream",
     "text": [
      "[10, 'sreehari', True, 20, 'python']\n"
     ]
    }
   ],
   "source": [
    "a.insert(4, \"python\")\n",
    "print(a)"
   ]
  },
  {
   "cell_type": "code",
   "execution_count": 14,
   "id": "dd7c1ac7",
   "metadata": {},
   "outputs": [
    {
     "name": "stdout",
     "output_type": "stream",
     "text": [
      "[10, 'AI', 'sreehari', True, 20, 'python']\n"
     ]
    }
   ],
   "source": [
    "a.insert(1, \"AI\")\n",
    "print(a)"
   ]
  },
  {
   "cell_type": "code",
   "execution_count": 15,
   "id": "d3135cdc",
   "metadata": {},
   "outputs": [
    {
     "name": "stdout",
     "output_type": "stream",
     "text": [
      "[10, 'python', 'AI', 'sreehari', True, 20, 'python']\n"
     ]
    }
   ],
   "source": [
    "a.insert(1, \"python\")\n",
    "print(a)"
   ]
  },
  {
   "cell_type": "code",
   "execution_count": 16,
   "id": "258831b0",
   "metadata": {},
   "outputs": [
    {
     "name": "stdout",
     "output_type": "stream",
     "text": [
      "[10, 'AI', 'sreehari', True, 20, 'python']\n"
     ]
    }
   ],
   "source": [
    "a.remove(\"python\")\n",
    "print(a)"
   ]
  },
  {
   "cell_type": "code",
   "execution_count": 18,
   "id": "dad2c8f3",
   "metadata": {},
   "outputs": [
    {
     "name": "stdout",
     "output_type": "stream",
     "text": [
      "[10, 'AI', True, 20, 'python']\n"
     ]
    }
   ],
   "source": [
    "a.pop(2)\n",
    "print(a)"
   ]
  },
  {
   "cell_type": "markdown",
   "id": "3b55a408",
   "metadata": {},
   "source": [
    "#Removed some elements using pop method and removed that code so below will be the content of list a"
   ]
  },
  {
   "cell_type": "code",
   "execution_count": 21,
   "id": "aad98ec9",
   "metadata": {},
   "outputs": [
    {
     "name": "stdout",
     "output_type": "stream",
     "text": [
      "[10, 'AI', True]\n"
     ]
    }
   ],
   "source": [
    "print(a)"
   ]
  },
  {
   "cell_type": "code",
   "execution_count": 23,
   "id": "11996f49",
   "metadata": {},
   "outputs": [
    {
     "name": "stdout",
     "output_type": "stream",
     "text": [
      "[10, 'AI', True, 20, 'python', 'GENAI']\n"
     ]
    }
   ],
   "source": [
    "a.extend([20,'python','GENAI'])\n",
    "print(a)"
   ]
  },
  {
   "cell_type": "code",
   "execution_count": 24,
   "id": "c7a3c025",
   "metadata": {},
   "outputs": [
    {
     "name": "stdout",
     "output_type": "stream",
     "text": [
      "['GENAI', 'python', 20, True, 'AI', 10]\n"
     ]
    }
   ],
   "source": [
    "a.reverse()\n",
    "print(a)"
   ]
  },
  {
   "cell_type": "code",
   "execution_count": 25,
   "id": "6f92f45d",
   "metadata": {},
   "outputs": [
    {
     "data": {
      "text/plain": [
       "1"
      ]
     },
     "execution_count": 25,
     "metadata": {},
     "output_type": "execute_result"
    }
   ],
   "source": [
    "a.count('AI')"
   ]
  },
  {
   "cell_type": "code",
   "execution_count": 26,
   "id": "9c32703b",
   "metadata": {},
   "outputs": [
    {
     "name": "stdout",
     "output_type": "stream",
     "text": [
      "['GENAI', 'python', 20, True, 'AI', 10, 20]\n"
     ]
    }
   ],
   "source": [
    "a.append(20)\n",
    "print(a)"
   ]
  },
  {
   "cell_type": "code",
   "execution_count": 27,
   "id": "bf636e86",
   "metadata": {},
   "outputs": [
    {
     "data": {
      "text/plain": [
       "2"
      ]
     },
     "execution_count": 27,
     "metadata": {},
     "output_type": "execute_result"
    }
   ],
   "source": [
    "a.count(20)"
   ]
  },
  {
   "cell_type": "code",
   "execution_count": 29,
   "id": "d33cd53e",
   "metadata": {},
   "outputs": [
    {
     "data": {
      "text/plain": [
       "4"
      ]
     },
     "execution_count": 29,
     "metadata": {},
     "output_type": "execute_result"
    }
   ],
   "source": [
    "a.index('AI')"
   ]
  },
  {
   "cell_type": "code",
   "execution_count": 32,
   "id": "396b5197",
   "metadata": {},
   "outputs": [
    {
     "data": {
      "text/plain": [
       "['GENAI', 'python', 20, True, 'AI', 10, 20]"
      ]
     },
     "execution_count": 32,
     "metadata": {},
     "output_type": "execute_result"
    }
   ],
   "source": [
    "a.copy()\n"
   ]
  },
  {
   "cell_type": "code",
   "execution_count": 33,
   "id": "d2d2ee7d",
   "metadata": {},
   "outputs": [
    {
     "name": "stdout",
     "output_type": "stream",
     "text": [
      "['GENAI', 'python', 20, True, 'AI', 10, 20]\n"
     ]
    }
   ],
   "source": [
    "print(a)"
   ]
  },
  {
   "cell_type": "code",
   "execution_count": 34,
   "id": "23630cd2",
   "metadata": {},
   "outputs": [
    {
     "data": {
      "text/plain": [
       "[1, 2, 'a', 'b']"
      ]
     },
     "execution_count": 34,
     "metadata": {},
     "output_type": "execute_result"
    }
   ],
   "source": [
    "[1, 2] + [\"a\", \"b\"]\n"
   ]
  },
  {
   "cell_type": "code",
   "execution_count": null,
   "id": "1a0d8b47",
   "metadata": {},
   "outputs": [],
   "source": []
  },
  {
   "cell_type": "code",
   "execution_count": 35,
   "id": "0ac726db",
   "metadata": {},
   "outputs": [
    {
     "name": "stdout",
     "output_type": "stream",
     "text": [
      "GENAI\n",
      "python\n",
      "20\n",
      "True\n",
      "AI\n",
      "10\n",
      "20\n"
     ]
    }
   ],
   "source": [
    "for i in a:\n",
    "    print(i)"
   ]
  },
  {
   "cell_type": "code",
   "execution_count": 36,
   "id": "3d238af9",
   "metadata": {},
   "outputs": [
    {
     "name": "stdout",
     "output_type": "stream",
     "text": [
      "0 GENAI\n",
      "1 python\n",
      "2 20\n",
      "3 True\n",
      "4 AI\n",
      "5 10\n",
      "6 20\n"
     ]
    }
   ],
   "source": [
    "for index, value in enumerate(a):\n",
    "    print(index, value)"
   ]
  }
 ],
 "metadata": {
  "kernelspec": {
   "display_name": "genai-env",
   "language": "python",
   "name": "python3"
  },
  "language_info": {
   "codemirror_mode": {
    "name": "ipython",
    "version": 3
   },
   "file_extension": ".py",
   "mimetype": "text/x-python",
   "name": "python",
   "nbconvert_exporter": "python",
   "pygments_lexer": "ipython3",
   "version": "3.10.18"
  }
 },
 "nbformat": 4,
 "nbformat_minor": 5
}
