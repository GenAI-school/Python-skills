{
 "cells": [
  {
   "cell_type": "code",
   "execution_count": 1,
   "id": "b50db0c8",
   "metadata": {},
   "outputs": [],
   "source": [
    "# Read the Example1.txt\n",
    "example1 = \"example1.txt\"\n",
    "file1 = open(example1, \"r\")"
   ]
  },
  {
   "cell_type": "code",
   "execution_count": 2,
   "id": "ccab9f63",
   "metadata": {},
   "outputs": [
    {
     "data": {
      "text/plain": [
       "'example1.txt'"
      ]
     },
     "execution_count": 2,
     "metadata": {},
     "output_type": "execute_result"
    }
   ],
   "source": [
    "# Print the path of file\n",
    "file1.name"
   ]
  },
  {
   "cell_type": "code",
   "execution_count": 3,
   "id": "7e9d9b9e",
   "metadata": {},
   "outputs": [
    {
     "data": {
      "text/plain": [
       "'r'"
      ]
     },
     "execution_count": 3,
     "metadata": {},
     "output_type": "execute_result"
    }
   ],
   "source": [
    "# Print the mode of file, either 'r' or 'w'\n",
    "\n",
    "file1.mode"
   ]
  },
  {
   "cell_type": "code",
   "execution_count": 4,
   "id": "8f0525ce",
   "metadata": {},
   "outputs": [
    {
     "data": {
      "text/plain": [
       "'Purpose / Context\\nPutting it together, this line is probably being used to choose which data points will be considered anomalies (i.e. “anomalous”) in a dataset of size num_samples:\\nYou have num_samples total points.\\nYou decide that 5% of them should be anomalies.\\nSo you randomly select that many distinct indices.\\nThen elsewhere in the code these indices might be used to mark or treat those data points differently (e.g. add noise, label them anomalous, etc.).'"
      ]
     },
     "execution_count": 4,
     "metadata": {},
     "output_type": "execute_result"
    }
   ],
   "source": [
    "# Read the file\n",
    "\n",
    "FileContent = file1.read()\n",
    "FileContent"
   ]
  },
  {
   "cell_type": "code",
   "execution_count": 5,
   "id": "25269a30",
   "metadata": {},
   "outputs": [
    {
     "name": "stdout",
     "output_type": "stream",
     "text": [
      "Purpose / Context\n",
      "Putting it together, this line is probably being used to choose which data points will be considered anomalies (i.e. “anomalous”) in a dataset of size num_samples:\n",
      "You have num_samples total points.\n",
      "You decide that 5% of them should be anomalies.\n",
      "So you randomly select that many distinct indices.\n",
      "Then elsewhere in the code these indices might be used to mark or treat those data points differently (e.g. add noise, label them anomalous, etc.).\n"
     ]
    }
   ],
   "source": [
    "# Print the file with '\\n' as a new line\n",
    "\n",
    "print(FileContent)"
   ]
  },
  {
   "cell_type": "code",
   "execution_count": 6,
   "id": "c36f0209",
   "metadata": {},
   "outputs": [
    {
     "data": {
      "text/plain": [
       "str"
      ]
     },
     "execution_count": 6,
     "metadata": {},
     "output_type": "execute_result"
    }
   ],
   "source": [
    "# Type of file content\n",
    "\n",
    "type(FileContent)"
   ]
  },
  {
   "cell_type": "code",
   "execution_count": 7,
   "id": "b619aa12",
   "metadata": {},
   "outputs": [],
   "source": [
    "# Close file after finish\n",
    "\n",
    "file1.close()"
   ]
  },
  {
   "cell_type": "code",
   "execution_count": 8,
   "id": "d13abda5",
   "metadata": {},
   "outputs": [
    {
     "name": "stdout",
     "output_type": "stream",
     "text": [
      "Purpose / Context\n",
      "Putting it together, this line is probably being used to choose which data points will be considered anomalies (i.e. “anomalous”) in a dataset of size num_samples:\n",
      "You have num_samples total points.\n",
      "You decide that 5% of them should be anomalies.\n",
      "So you randomly select that many distinct indices.\n",
      "Then elsewhere in the code these indices might be used to mark or treat those data points differently (e.g. add noise, label them anomalous, etc.).\n"
     ]
    }
   ],
   "source": [
    "# Using the with statement is better practice, it automatically closes the file even if the code encounters an exception. The code will run everything in the indent block then close the file object.\n",
    "\n",
    "# Open file using with\n",
    "\n",
    "with open(example1, \"r\") as file1:\n",
    "    FileContent = file1.read()\n",
    "    print(FileContent)"
   ]
  },
  {
   "cell_type": "code",
   "execution_count": 9,
   "id": "30b8976e",
   "metadata": {},
   "outputs": [
    {
     "data": {
      "text/plain": [
       "True"
      ]
     },
     "execution_count": 9,
     "metadata": {},
     "output_type": "execute_result"
    }
   ],
   "source": [
    "# Verify if the file is closed\n",
    "\n",
    "file1.closed"
   ]
  },
  {
   "cell_type": "code",
   "execution_count": 10,
   "id": "50f99b1e",
   "metadata": {},
   "outputs": [
    {
     "name": "stdout",
     "output_type": "stream",
     "text": [
      "Purpose / Context\n",
      "Putting it together, this line is probably being used to choose which data points will be considered anomalies (i.e. “anomalous”) in a dataset of size num_samples:\n",
      "You have num_samples total points.\n",
      "You decide that 5% of them should be anomalies.\n",
      "So you randomly select that many distinct indices.\n",
      "Then elsewhere in the code these indices might be used to mark or treat those data points differently (e.g. add noise, label them anomalous, etc.).\n"
     ]
    }
   ],
   "source": [
    "# See the content of file\n",
    "\n",
    "print(FileContent)"
   ]
  },
  {
   "cell_type": "code",
   "execution_count": 11,
   "id": "33d680cd",
   "metadata": {},
   "outputs": [
    {
     "name": "stdout",
     "output_type": "stream",
     "text": [
      "Purp\n"
     ]
    }
   ],
   "source": [
    "# Read first four characters\n",
    "\n",
    "with open(example1, \"r\") as file1:\n",
    "    print(file1.read(4))"
   ]
  },
  {
   "cell_type": "code",
   "execution_count": 12,
   "id": "688a7df5",
   "metadata": {},
   "outputs": [
    {
     "name": "stdout",
     "output_type": "stream",
     "text": [
      "Purp\n",
      "ose \n",
      "/ Conte\n",
      "xt\n",
      "Putting it t\n"
     ]
    }
   ],
   "source": [
    "# Read certain amount of characters\n",
    "\n",
    "with open(example1, \"r\") as file1:\n",
    "    print(file1.read(4))\n",
    "    print(file1.read(4))\n",
    "    print(file1.read(7))\n",
    "    print(file1.read(15))"
   ]
  },
  {
   "cell_type": "code",
   "execution_count": 13,
   "id": "051d1089",
   "metadata": {},
   "outputs": [
    {
     "name": "stdout",
     "output_type": "stream",
     "text": [
      "Purpose / Contex\n",
      "t\n",
      "Put\n",
      "ting it t\n"
     ]
    }
   ],
   "source": [
    "# Read certain amount of characters\n",
    "\n",
    "with open(example1, \"r\") as file1:\n",
    "    print(file1.read(16))\n",
    "    print(file1.read(5))\n",
    "    print(file1.read(9))"
   ]
  },
  {
   "cell_type": "code",
   "execution_count": 14,
   "id": "4df1260c",
   "metadata": {},
   "outputs": [
    {
     "name": "stdout",
     "output_type": "stream",
     "text": [
      "first line: Purpose / Context\n",
      "\n"
     ]
    }
   ],
   "source": [
    "# Read one line\n",
    "\n",
    "with open(example1, \"r\") as file1:\n",
    "    print(\"first line: \" + file1.readline())"
   ]
  },
  {
   "cell_type": "code",
   "execution_count": 16,
   "id": "13b605db",
   "metadata": {},
   "outputs": [
    {
     "name": "stdout",
     "output_type": "stream",
     "text": [
      "Purp\n",
      "ose / Context\n",
      "Puttin\n"
     ]
    }
   ],
   "source": [
    "with open(example1, \"r\") as file1:\n",
    "    print(file1.readline(4)) # does not read past the end of line\n",
    "    print(file1.read(20)) # Returns the next 20 chars\n"
   ]
  },
  {
   "cell_type": "code",
   "execution_count": 17,
   "id": "3234f596",
   "metadata": {},
   "outputs": [
    {
     "name": "stdout",
     "output_type": "stream",
     "text": [
      "Iteration 0 :  Purpose / Context\n",
      "\n",
      "Iteration 1 :  Putting it together, this line is probably being used to choose which data points will be considered anomalies (i.e. “anomalous”) in a dataset of size num_samples:\n",
      "\n",
      "Iteration 2 :  You have num_samples total points.\n",
      "\n",
      "Iteration 3 :  You decide that 5% of them should be anomalies.\n",
      "\n",
      "Iteration 4 :  So you randomly select that many distinct indices.\n",
      "\n",
      "Iteration 5 :  Then elsewhere in the code these indices might be used to mark or treat those data points differently (e.g. add noise, label them anomalous, etc.).\n"
     ]
    }
   ],
   "source": [
    "# Iterate through the lines\n",
    "\n",
    "with open(example1,\"r\") as file1:\n",
    "        i = 0;\n",
    "        for line in file1:\n",
    "            print(\"Iteration\", str(i), \": \", line)\n",
    "            i = i + 1"
   ]
  },
  {
   "cell_type": "code",
   "execution_count": 18,
   "id": "3ee09cf4",
   "metadata": {},
   "outputs": [],
   "source": [
    "# Read all lines and save as a list\n",
    "\n",
    "with open(example1, \"r\") as file1:\n",
    "    FileasList = file1.readlines()"
   ]
  },
  {
   "cell_type": "code",
   "execution_count": 19,
   "id": "689ffb04",
   "metadata": {},
   "outputs": [
    {
     "data": {
      "text/plain": [
       "'Purpose / Context\\n'"
      ]
     },
     "execution_count": 19,
     "metadata": {},
     "output_type": "execute_result"
    }
   ],
   "source": [
    "# Print the first line\n",
    "\n",
    "FileasList[0]"
   ]
  },
  {
   "cell_type": "code",
   "execution_count": 20,
   "id": "eaee0a36",
   "metadata": {},
   "outputs": [
    {
     "data": {
      "text/plain": [
       "'You have num_samples total points.\\n'"
      ]
     },
     "execution_count": 20,
     "metadata": {},
     "output_type": "execute_result"
    }
   ],
   "source": [
    "# Print the third line\n",
    "\n",
    "FileasList[2]"
   ]
  }
 ],
 "metadata": {
  "kernelspec": {
   "display_name": "genai-env",
   "language": "python",
   "name": "python3"
  },
  "language_info": {
   "codemirror_mode": {
    "name": "ipython",
    "version": 3
   },
   "file_extension": ".py",
   "mimetype": "text/x-python",
   "name": "python",
   "nbconvert_exporter": "python",
   "pygments_lexer": "ipython3",
   "version": "3.10.18"
  }
 },
 "nbformat": 4,
 "nbformat_minor": 5
}
